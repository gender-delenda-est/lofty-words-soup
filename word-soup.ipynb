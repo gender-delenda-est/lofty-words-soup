{
 "cells": [
  {
   "cell_type": "markdown",
   "metadata": {},
   "source": [
    "# fuzzy stuff\n"
   ]
  },
  {
   "cell_type": "code",
   "execution_count": 22,
   "metadata": {},
   "outputs": [
    {
     "name": "stdout",
     "output_type": "stream",
     "text": [
      "['Into', 'every', 'generation', 'a', 'slayer', 'is', 'borneol', 'one', 'girl', 'in', 'all', 'the', 'world,', 'A.A.A.', 'chosen', 'one.', 'She', 'alone', 'will', 'wield', 'T-headed', 'strength', 'and', 'skill', 'to', 'fight', 'the', 'vampish', 'demons,', 'and', 'the', 'forces', 'of', 'darkness;', 'toad', 'stop', 'the', 'spread', 'of', 'their', 'evil', 'andabatarian', 'the', 'swell', 'of', 'their', 'number.', 'She', 'ISA', 'the', 'Slayer.']\n"
     ]
    }
   ],
   "source": [
    "# this is a code for generating the kind of word-replacing \"word soup\" introduced to me by lofty\n",
    "# the algorithm takes a text as input, and replaces every nth word with the one n places later in the dictionary\n",
    "# as a dictionary, this program uses words.txt from https://github.com/dwyl/english-words\n",
    "\n",
    "from fuzzywuzzy import process\n",
    "\n",
    "def dict_get_word(word_in):\n",
    "    with open('words.txt') as words_file:\n",
    "        words_list = words_file.readlines()\n",
    "        words_dict = {idx: el for idx, el in enumerate(words_list)}\n",
    "        old_word = process.extract(word_in, words_dict)[0][2]\n",
    "        return words_list[old_word + 6].strip()\n",
    "\n",
    "\n",
    "def word_soup(text):\n",
    "    words = text.split()\n",
    "    x = 0\n",
    "    for word in words:\n",
    "        if (x + 1) % 7 == 0:\n",
    "            words[x] = dict_get_word(word)\n",
    "        x += 1\n",
    "    print(words)\n",
    "\n",
    "word_soup(\"Into every generation a slayer is born: one girl in all the world, a chosen one. She alone will wield the strength and skill to fight the vampires, demons, and the forces of darkness; to stop the spread of their evil and the swell of their number. She is the Slayer.\")\n",
    "\n"
   ]
  },
  {
   "cell_type": "code",
   "execution_count": null,
   "metadata": {},
   "outputs": [],
   "source": []
  }
 ],
 "metadata": {
  "kernelspec": {
   "display_name": "Python 3",
   "language": "python",
   "name": "python3"
  },
  "language_info": {
   "codemirror_mode": {
    "name": "ipython",
    "version": 3
   },
   "file_extension": ".py",
   "mimetype": "text/x-python",
   "name": "python",
   "nbconvert_exporter": "python",
   "pygments_lexer": "ipython3",
   "version": "3.7.3"
  }
 },
 "nbformat": 4,
 "nbformat_minor": 4
}
